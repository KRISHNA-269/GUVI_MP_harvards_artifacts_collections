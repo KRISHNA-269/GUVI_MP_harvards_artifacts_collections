{
 "cells": [
  {
   "cell_type": "code",
   "execution_count": null,
   "id": "a9e9a01a",
   "metadata": {},
   "outputs": [],
   "source": [
    "%pip install pymysql"
   ]
  },
  {
   "cell_type": "code",
   "execution_count": null,
   "id": "ad71069b",
   "metadata": {},
   "outputs": [],
   "source": [
    "import pymysql\n",
    "\n",
    "# Direct DB credentials here\n",
    "HOST = \"localhost\"\n",
    "USER = \"root\"\n",
    "PASSWORD = \"\"\n",
    "DB_NAME = \"harvard_artifacts\"\n",
    "\n",
    "def create_database():\n",
    "    conn = pymysql.connect(host=HOST, user=USER, password=PASSWORD)\n",
    "    cursor = conn.cursor()\n",
    "    cursor.execute(f\"CREATE DATABASE IF NOT EXISTS {DB_NAME}\")\n",
    "    print(f\"Database '{DB_NAME}' created (or already exists)\")\n",
    "    conn.commit()\n",
    "    cursor.close()\n",
    "    conn.close()\n",
    "\n",
    "if __name__ == \"__main__\":\n",
    "    create_database()"
   ]
  }
 ],
 "metadata": {
  "kernelspec": {
   "display_name": "venv",
   "language": "python",
   "name": "python3"
  },
  "language_info": {
   "codemirror_mode": {
    "name": "ipython",
    "version": 3
   },
   "file_extension": ".py",
   "mimetype": "text/x-python",
   "name": "python",
   "nbconvert_exporter": "python",
   "pygments_lexer": "ipython3",
   "version": "3.12.10"
  }
 },
 "nbformat": 4,
 "nbformat_minor": 5
}
