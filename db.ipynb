{
 "cells": [
  {
   "cell_type": "code",
   "execution_count": null,
   "id": "72d5f682",
   "metadata": {},
   "outputs": [],
   "source": [
    "import pymysql\n",
    "\n",
    "# DB credentials\n",
    "HOST = \"localhost\"\n",
    "USER = \"root\"\n",
    "PASSWORD = \"\"\n",
    "DB_NAME = \"harvard_artifacts\"\n",
    "\n",
    "def test_connection():\n",
    "    try:\n",
    "        conn = pymysql.connect(\n",
    "            host=HOST,\n",
    "            user=USER,\n",
    "            password=PASSWORD,\n",
    "            database=DB_NAME\n",
    "        )\n",
    "        cursor = conn.cursor()\n",
    "        cursor.execute(\"SHOW TABLES;\")\n",
    "        tables = cursor.fetchall()\n",
    "\n",
    "        print(\"Connected to Database:\", DB_NAME)\n",
    "        print(\"Available Tables:\")\n",
    "        for t in tables:\n",
    "            print(\" -\", t[0])\n",
    "\n",
    "        cursor.close()\n",
    "        conn.close()\n",
    "    except Exception as e:\n",
    "        print(\"Connection failed:\", e)\n",
    "\n",
    "if __name__ == \"__main__\":\n",
    "    test_connection()"
   ]
  }
 ],
 "metadata": {
  "kernelspec": {
   "display_name": "venv",
   "language": "python",
   "name": "python3"
  },
  "language_info": {
   "codemirror_mode": {
    "name": "ipython",
    "version": 3
   },
   "file_extension": ".py",
   "mimetype": "text/x-python",
   "name": "python",
   "nbconvert_exporter": "python",
   "pygments_lexer": "ipython3",
   "version": "3.12.10"
  }
 },
 "nbformat": 4,
 "nbformat_minor": 5
}
